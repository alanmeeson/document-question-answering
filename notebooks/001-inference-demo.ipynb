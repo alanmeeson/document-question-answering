{
 "cells": [
  {
   "cell_type": "markdown",
   "id": "9f3c6306-feb5-43d9-8b97-4fc64604c9ab",
   "metadata": {},
   "source": [
    "# Simple Document Question Answering Demo\n",
    "\n",
    "**Author:** Alan Meeson <alan@carefullycalculated.co.uk>\n",
    "\n",
    "**Date:** 2023-05-06\n",
    "\n",
    "A simple example notebook showing how to use a pre-trainined document question answering model to perform inference"
   ]
  },
  {
   "cell_type": "code",
   "execution_count": null,
   "id": "43112447-d56b-445c-997f-c9071fd4e0e6",
   "metadata": {
    "tags": []
   },
   "outputs": [],
   "source": [
    "import requests\n",
    "import os\n",
    "from IPython.display import Image\n",
    "from transformers import pipeline"
   ]
  },
  {
   "cell_type": "markdown",
   "id": "ad6d959f-90e2-4d6c-8a7e-554dc95b03a3",
   "metadata": {},
   "source": [
    "## Grab and display image"
   ]
  },
  {
   "cell_type": "code",
   "execution_count": null,
   "id": "4953afb3-4e85-46e1-ab33-29759dea0db5",
   "metadata": {
    "tags": []
   },
   "outputs": [],
   "source": [
    "img_url = \"https://pbs.twimg.com/media/CLLjDg0VAAA48k2?format=jpg&name=medium\"\n",
    "img_file = \"../data/buzz-voucher-pg1.png\"\n",
    "\n",
    "if not os.path.exists(img_file):\n",
    "    response = requests.get(img_url)\n",
    "    if response.status_code == 200:\n",
    "        with open(img_file, 'wb') as fp:\n",
    "            fp.write(response.content)"
   ]
  },
  {
   "cell_type": "code",
   "execution_count": null,
   "id": "24d14de0-7287-4680-936d-fb00450de194",
   "metadata": {
    "tags": []
   },
   "outputs": [],
   "source": [
    "display(Image(filename=img_file))"
   ]
  },
  {
   "cell_type": "markdown",
   "id": "33c08da8-3379-450a-8ec7-274f3fd337ae",
   "metadata": {},
   "source": [
    "## Load and apply the model\n",
    "\n",
    "### Load the model\n",
    "\n",
    "This will download the model from Huggingface, if it is not already downloaded.\n",
    "\n",
    "The model being used is [impira/layout-lm-document-qa](https://huggingface.co/impira/layoutlm-document-qa).\n",
    "\n",
    "This is a fine-tuned version of the [LayoutLM](https://github.com/microsoft/unilm/tree/master/layoutlm) model, finetuned on [SQuAD2.0](https://huggingface.co/datasets/squad_v2) and [DocVQA](https://miro.medium.com/max/787/1*iECQRIiOGTmEFLdWkVIH2g.jpeg)\n",
    "\n",
    "References:\n",
    "- [impira/layout-lm-document-qa](https://huggingface.co/impira/layoutlm-document-qa): MIT\n",
    "- [LayoutLM](https://github.com/microsoft/unilm/tree/master/layoutlm): MIT\n",
    "- [transformers](https://github.com/huggingface/transformers/blob/main/LICENSE): Apache 2.0\n",
    "- [SQuAD2.0](https://huggingface.co/datasets/squad_v2): cc-by-sa-4.0\n",
    "- [DocVQA](https://www.docvqa.org/datasets/docvqa)\n",
    "- [IIT-CDIP Test Collection 1.0*](https://data.commerce.gov/complex-document-information-processing-cdip-dataset)"
   ]
  },
  {
   "cell_type": "code",
   "execution_count": null,
   "id": "3d3e0601-d647-4f72-8e51-c3636eb24495",
   "metadata": {
    "tags": []
   },
   "outputs": [],
   "source": [
    "nlp = pipeline(\n",
    "    \"document-question-answering\",\n",
    "    model=\"impira/layoutlm-document-qa\",\n",
    ")"
   ]
  },
  {
   "cell_type": "markdown",
   "id": "9282c7e1-8e9a-470d-a55d-78bc70f720c7",
   "metadata": {},
   "source": [
    "### Ask some questions\n",
    "\n",
    "We can ask natural language questions and get somewhat sensible results.  "
   ]
  },
  {
   "cell_type": "code",
   "execution_count": null,
   "id": "5ae5da88-2e6b-41f9-ba56-d63a71f47473",
   "metadata": {
    "tags": []
   },
   "outputs": [],
   "source": [
    "nlp(img_file, \"What is the Voucher number?\")"
   ]
  },
  {
   "cell_type": "code",
   "execution_count": null,
   "id": "3015818c-9280-4522-9074-1b4579ec1582",
   "metadata": {
    "tags": []
   },
   "outputs": [],
   "source": [
    "nlp(img_file, \"What date was was travel authorized?\")"
   ]
  },
  {
   "cell_type": "code",
   "execution_count": null,
   "id": "4f87e1d2-07a4-449f-8559-620252a0c128",
   "metadata": {
    "tags": []
   },
   "outputs": [],
   "source": [
    "nlp(img_file, \"Where was travel from?\")"
   ]
  },
  {
   "cell_type": "code",
   "execution_count": null,
   "id": "5580fa39-c813-4113-a4e1-1fa907de8a2b",
   "metadata": {
    "tags": []
   },
   "outputs": [],
   "source": [
    "nlp(img_file, \"Where was travel to?\")"
   ]
  },
  {
   "cell_type": "markdown",
   "id": "9ff9eb59-6d94-417c-81ab-4068f98c4745",
   "metadata": {},
   "source": [
    "Equally, we also get some which are quite confidently wrong."
   ]
  },
  {
   "cell_type": "code",
   "execution_count": null,
   "id": "082455cb-349c-4fbf-b9b4-a6e7b7726fe3",
   "metadata": {
    "tags": []
   },
   "outputs": [],
   "source": [
    "nlp(img_file, \"Who is the Payee?\")"
   ]
  },
  {
   "cell_type": "code",
   "execution_count": null,
   "id": "1dc1d250-7852-4fe8-a9f1-c3d2767d7b48",
   "metadata": {
    "tags": []
   },
   "outputs": [],
   "source": [
    "nlp(img_file, \"Who authorized payment?\")"
   ]
  },
  {
   "cell_type": "code",
   "execution_count": null,
   "id": "cf6c4d8f-ce66-4c41-82a8-a81601a31846",
   "metadata": {
    "tags": []
   },
   "outputs": [],
   "source": [
    "nlp(img_file, \"Where was travel to?\")"
   ]
  }
 ],
 "metadata": {
  "kernelspec": {
   "display_name": "Python 3 (ipykernel)",
   "language": "python",
   "name": "python3"
  },
  "language_info": {
   "codemirror_mode": {
    "name": "ipython",
    "version": 3
   },
   "file_extension": ".py",
   "mimetype": "text/x-python",
   "name": "python",
   "nbconvert_exporter": "python",
   "pygments_lexer": "ipython3",
   "version": "3.10.6"
  }
 },
 "nbformat": 4,
 "nbformat_minor": 5
}
